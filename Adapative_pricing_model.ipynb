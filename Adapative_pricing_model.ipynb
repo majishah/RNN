{
  "nbformat": 4,
  "nbformat_minor": 0,
  "metadata": {
    "colab": {
      "name": "Adapative_pricing_model.ipynb",
      "provenance": [],
      "collapsed_sections": [],
      "authorship_tag": "ABX9TyOTDYTVaOfmFHKl3HXthU76",
      "include_colab_link": true
    },
    "kernelspec": {
      "name": "python3",
      "display_name": "Python 3"
    },
    "language_info": {
      "name": "python"
    }
  },
  "cells": [
    {
      "cell_type": "markdown",
      "metadata": {
        "id": "view-in-github",
        "colab_type": "text"
      },
      "source": [
        "<a href=\"https://colab.research.google.com/github/majishah/RNN/blob/master/Adapative_pricing_model.ipynb\" target=\"_parent\"><img src=\"https://colab.research.google.com/assets/colab-badge.svg\" alt=\"Open In Colab\"/></a>"
      ]
    },
    {
      "cell_type": "code",
      "metadata": {
        "id": "WF7CyXwP-bNW"
      },
      "source": [
        "# univariate multi-step lstm for the power usage dataset\n",
        "from math import sqrt\n",
        "from numpy import split\n",
        "from numpy import array\n",
        "from pandas import read_csv\n",
        "from sklearn.metrics import mean_squared_error\n",
        "from matplotlib import pyplot\n",
        "from keras.models import Sequential\n",
        "from keras.layers import Dense, Dropout\n",
        "from keras.layers import LSTM\n",
        "from pandas import DataFrame\n",
        "\n",
        "\n",
        "# import pandas as pd\n",
        "\n",
        "from sklearn.model_selection import train_test_split\n",
        "from keras import Model, layers\n",
        "from keras.models import load_model, model_from_json\n"
      ],
      "execution_count": null,
      "outputs": []
    },
    {
      "cell_type": "code",
      "metadata": {
        "colab": {
          "base_uri": "https://localhost:8080/"
        },
        "id": "eU4Aou2tx3wR",
        "outputId": "310709a7-73a3-449c-e90e-74b4704a0ba2"
      },
      "source": [
        "from google.colab import drive\n",
        "drive.mount('/content/drive', force_remount=True)"
      ],
      "execution_count": null,
      "outputs": [
        {
          "output_type": "stream",
          "name": "stdout",
          "text": [
            "Mounted at /content/drive\n"
          ]
        }
      ]
    },
    {
      "cell_type": "code",
      "metadata": {
        "id": "uL6JwjuZ2DXZ"
      },
      "source": [
        "def split_dataset(data):\n",
        "    train, test = data[1:1658881], data[1658881: 2075041]\n",
        "    # restructure into windows of weekly data\n",
        "    # print(len(train))\n",
        "    # print(len(test))\n",
        "    train =array( split(train, len(train)/1440))\n",
        "    test = array( split(test, len(test)/1440))\n",
        "    return train, test"
      ],
      "execution_count": null,
      "outputs": []
    },
    {
      "cell_type": "code",
      "metadata": {
        "colab": {
          "base_uri": "https://localhost:8080/"
        },
        "id": "E6ILk705yIif",
        "outputId": "a9889d47-2b0a-4e90-adcd-1eb98f008455"
      },
      "source": [
        "\n",
        "data=\"/content/drive/MyDrive/smart meter dataset/household_power_consumption/minute_household_power_final.csv\"\n",
        "df = read_csv(data,header=0, parse_dates=['Date'], infer_datetime_format=True, index_col=['Date'])\n",
        "train, test  = split_dataset(df.values)\n",
        "len(df)\n",
        "\n"
      ],
      "execution_count": null,
      "outputs": [
        {
          "output_type": "stream",
          "name": "stderr",
          "text": [
            "/usr/local/lib/python3.7/dist-packages/IPython/core/interactiveshell.py:2718: DtypeWarning: Columns (2,3,4,5,6,7) have mixed types.Specify dtype option on import or set low_memory=False.\n",
            "  interactivity=interactivity, compiler=compiler, result=result)\n"
          ]
        },
        {
          "output_type": "execute_result",
          "data": {
            "text/plain": [
              "2075259"
            ]
          },
          "metadata": {},
          "execution_count": 81
        }
      ]
    },
    {
      "cell_type": "code",
      "metadata": {
        "id": "0W42tlVtOKGM"
      },
      "source": [
        ""
      ],
      "execution_count": null,
      "outputs": []
    }
  ]
}